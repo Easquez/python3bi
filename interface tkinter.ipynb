{
 "cells": [
  {
   "cell_type": "code",
   "execution_count": 2,
   "id": "b691abf4-c980-48c5-bd80-561d442a0f89",
   "metadata": {},
   "outputs": [],
   "source": [
    "import tkinter\n",
    "from tkinter import *\n",
    "from PIL import Image, ImageTk"
   ]
  },
  {
   "cell_type": "code",
   "execution_count": 49,
   "id": "dcc0be16-7394-4f61-86a0-0a7b961f4853",
   "metadata": {},
   "outputs": [],
   "source": [
    "def exit():\n",
    "    f.destroy()\n",
    "def clearAreas():\n",
    "    entry.delete(0,END)\n",
    "    entry2.delete(0, END)\n",
    "    entry3.delete(0, END)\n",
    "    displayText.config(text=\"\")\n",
    "def displayText():\n",
    "    name = entry.get()\n",
    "    prenom = entry2.get()\n",
    "    ville = entry3.get()\n",
    "    if(name == \"\" or prenom == \"\" or ville == \"\"):\n",
    "        phrase = f\"Veuillez inserer les données\"\n",
    "    else: \n",
    "        phrase = f\"Vous êtes {name} {prenom}, vous êtes de {ville}\"\n",
    "    displayText.config(text=phrase)\n",
    "\n"
   ]
  },
  {
   "cell_type": "code",
   "execution_count": 50,
   "id": "3b9e534f-a2b3-45eb-bfd8-d82809612fcb",
   "metadata": {},
   "outputs": [],
   "source": [
    "f = Tk()\n",
    "f.title('Carte d\\'identité')\n",
    "f.geometry('700x300')\n",
    "f.configure(bg='white')\n",
    "f.resizable(False, False)\n",
    "\n",
    "## MAIN TITLE\n",
    "title = Label(f, text='Votre Identité')\n",
    "title.configure(font = ('Calibri',16,'bold'),bg='white')\n",
    "title.place(x=230,y=20)\n",
    "#First Label\n",
    "input=Label(f,text='Votre Prénom:')\n",
    "input.configure(font=('Calibri',11,'italic bold'),bg='white')\n",
    "input.place(x=20,y=80)\n",
    "#Second label\n",
    "input2=Label(f,text='Votre Nom:')\n",
    "input2.configure(font=('Calibri',11,'italic bold'),bg='white')\n",
    "input2.place(x=20,y=130)\n",
    "#Third Label\n",
    "input3=Label(f,text='Votre Ville:')\n",
    "input3.configure(font=('Calibri',11,'italic bold'),bg='white')\n",
    "input3.place(x=20,y=180)\n",
    "#First input\n",
    "entry = Entry(f, width=35)\n",
    "entry.place(x=150, y=80)\n",
    "#Second input\n",
    "entry2 = Entry(f, width=35)\n",
    "entry2.place(x=150, y=130)\n",
    "#Third input\n",
    "entry3 = Entry(f, width=35)\n",
    "entry3.place(x=150, y=180)\n",
    "#Button Quitter\n",
    "btnQ = Button(f, text='Quitter', width=7, height=1, command=exit)\n",
    "btnQ.configure(font=('Calibri',12,'bold'))\n",
    "btnQ.place(x=180, y=249)\n",
    "#Button Valider\n",
    "btnV = Button(f, text='Valider', width=7, height=1, command=displayText)\n",
    "btnV.configure(font=('Calibri',12,'bold'))\n",
    "btnV.place(x=250, y=249)\n",
    "#Button Réinistialiser\n",
    "btnR = Button(f, text='Réinistialiser', width=11, height=1, command=clearAreas)\n",
    "btnR.configure(font=('Calibri',12,'bold'))\n",
    "btnR.place(x=320, y=248)\n",
    "#result\n",
    "displayText = Label(f, height=1, width=40, bg=\"white\")\n",
    "displayText.configure(font=('Calibri',12))\n",
    "displayText.place(x=40, y=210)\n",
    "\n",
    "# Image\n",
    "img = Image.open(r\"C:\\Users\\Easquez\\Desktop\\9RAYA\\person.jpg\")\n",
    "test = ImageTk.PhotoImage(img)\n",
    "label1 = tkinter.Label(image=test)\n",
    "label1.image = test\n",
    "# Position image\n",
    "label1.place(x=435, y=1)\n",
    "f.mainloop()"
   ]
  },
  {
   "cell_type": "code",
   "execution_count": null,
   "id": "136253cc-4b32-421b-b091-2e54fc150df2",
   "metadata": {},
   "outputs": [],
   "source": []
  }
 ],
 "metadata": {
  "kernelspec": {
   "display_name": "Python 3 (ipykernel)",
   "language": "python",
   "name": "python3"
  },
  "language_info": {
   "codemirror_mode": {
    "name": "ipython",
    "version": 3
   },
   "file_extension": ".py",
   "mimetype": "text/x-python",
   "name": "python",
   "nbconvert_exporter": "python",
   "pygments_lexer": "ipython3",
   "version": "3.11.4"
  }
 },
 "nbformat": 4,
 "nbformat_minor": 5
}
